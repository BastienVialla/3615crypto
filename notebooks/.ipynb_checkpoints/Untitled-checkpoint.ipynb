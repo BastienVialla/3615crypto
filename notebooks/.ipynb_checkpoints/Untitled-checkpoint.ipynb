{
 "cells": [
  {
   "cell_type": "code",
   "execution_count": 102,
   "id": "3ac7ad04-c0a5-4399-8d1a-9b5b6820cb2c",
   "metadata": {},
   "outputs": [],
   "source": [
    "from __future__ import annotations\n",
    "import textwrap\n",
    "from typing import List, Set\n",
    "import unicodedata\n",
    "\n",
    "from logos import LOGO_HEADER_SCREEN\n",
    "MINITEL_SCREEN_WHIDTH = 80\n",
    "\n",
    "def normalize_string(string):\n",
    "  \"\"\"\n",
    "  Normalise une chaîne de caractères en remplaçant les caractères accentués\n",
    "  par leurs équivalents sans accent.\n",
    "\n",
    "  Args:\n",
    "    chaine: La chaîne de caractères à normaliser.\n",
    "\n",
    "  Returns:\n",
    "    La chaîne normalisée sans accents.\n",
    "  \"\"\"\n",
    "  # 1. Normaliser la chaîne en utilisant la forme NFD (Canonical Decomposition)\n",
    "  # Cette étape décompose les caractères accentués en leur caractère de base\n",
    "  # suivi de leur signe diacritique combinant.\n",
    "  # Par exemple, 'é' devient 'e' suivi du caractère U+0301 (accent aigu combinant).\n",
    "  normalized_string = unicodedata.normalize('NFD', string)\n",
    "\n",
    "  # 2. Filtrer les caractères pour exclure les signes diacritiques combinants\n",
    "  # Les signes diacritiques combinants ont une catégorie Unicode qui commence par 'M' (Mark).\n",
    "  # On crée une nouvelle chaîne en incluant uniquement les caractères\n",
    "  # dont la catégorie n'est PAS un signe diacritique combinant ('Mn' = Mark, Nonspacing).\n",
    "  normalized_string = ''.join([\n",
    "      car for car in normalized_string\n",
    "      if unicodedata.category(car) != 'Mn'\n",
    "  ])\n",
    "\n",
    "  return normalized_string\n",
    "\n",
    "def display_menu(title: str, options: dict):\n",
    "    \"\"\"\n",
    "    Affiche un menu numéroté à partir d'un dictionnaire.\n",
    "\n",
    "    Args:\n",
    "        title (str): Le titre à afficher au-dessus du menu.\n",
    "        options (dict): Un dictionnaire où les clés sont les numéros\n",
    "                        d'option (str) et les valeurs sont les descriptions (str).\n",
    "                        Ex: {'1': 'Option A', '2': 'Option B'}\n",
    "    \"\"\"\n",
    "    print(LOGO_HEADER_SCREEN)\n",
    "    normalized_title = normalize_string(title)\n",
    "    print(f\"\\n--- {normalized_title} ---\\n\")\n",
    "    if not options:\n",
    "        print(\"Aucune option disponible.\")\n",
    "    else:\n",
    "        # Détermine la largeur nécessaire pour les numéros d'option\n",
    "        # max_key_width = max(len(key) for key in options.keys()) if options else 0\n",
    "        for key, value in options.items():\n",
    "            if isinstance(value, dict):\n",
    "                if value.get('show', True) == False:\n",
    "                    continue\n",
    "                title = value['option']\n",
    "                description = value['description']\n",
    "                prefix = f'{key}. {title} | '\n",
    "                line = prefix+description\n",
    "                line = normalize_string(line)\n",
    "                if len(line) > MINITEL_SCREEN_WHIDTH:\n",
    "                    # look for previous space to cut the line\n",
    "                    for i in range(MINITEL_SCREEN_WHIDTH, 0, -1):\n",
    "                        if line[i] == \" \":\n",
    "                            print(line[:i])\n",
    "                            print(' '*(len(prefix)-1)+line[i:])\n",
    "                            break\n",
    "                else:\n",
    "                    print(line)\n",
    "            else:\n",
    "                print(f\"{key}. {value}\") # Version la plus simple\n",
    "                \n",
    "    print(\"\\n\"+\"-\" * MINITEL_SCREEN_WHIDTH) # Ligne de séparation simple\n",
    "\n",
    "def get_choice(prompt: str, valid_choices: List[str] | Set[str], to_hide: None | List[str] | Set[str] = None) -> str:\n",
    "    \"\"\"\n",
    "    \n",
    "    \"\"\"\n",
    "    # Convertir en set pour une recherche efficace, si ce n'est pas déjà le cas\n",
    "    valid_set = set(valid_choices)\n",
    "    if not valid_set:\n",
    "         # Gérer le cas où aucune option n'est valide (ne devrait pas arriver si le menu est bien construit)\n",
    "         print(\"Erreur : Aucune option valide fournie à get_choice.\")\n",
    "         return \"\" # Ou lever une exception\n",
    "\n",
    "    while True:\n",
    "        choice = input(prompt).strip()\n",
    "        if choice in valid_set:\n",
    "            return choice\n",
    "        else:\n",
    "            # Construit un message d'erreur plus lisible\n",
    "            valid_options_str = \", \".join(sorted(list(valid_set)))\n",
    "            for x in to_hide:\n",
    "                valid_options_str = valid_options_str.replace(x, '')\n",
    "            valid_options_str = textwrap.fill(valid_options_str, MINITEL_SCREEN_WHIDTH)\n",
    "            print(f\"Choix invalide. Veuillez entrer un numero parmi : {valid_options_str}\")\n",
    "\n",
    "def get_options(options: list):\n",
    "    show = list()\n",
    "    for x in options:\n",
    "        if x['show']:\n",
    "            show.append(x)\n",
    "    res = {}\n",
    "    i = 1\n",
    "    for x in show:\n",
    "        if x['show']:\n",
    "            res[str(i)] = x\n",
    "            i += 1\n",
    "    return res"
   ]
  },
  {
   "cell_type": "code",
   "execution_count": 98,
   "id": "eddead8a-688f-49d4-8c67-640e478cb994",
   "metadata": {},
   "outputs": [],
   "source": [
    "algorithms = [\n",
    "    {\"option\": 'Sha', \"description\": \"Famille d'algorithmes de hachage, permet de créer une empreinte numérique unique.\", \"show\": True},\n",
    "    {\"option\": 'ChaCha20', \"description\": \"Algorithme de chiffrement par flux.\", \"show\": True},\n",
    "    {\"option\": 'AES', \"description\": \"Algorithme cryptographique symétrique.\", \"show\": True},\n",
    "    {\"option\": 'RSA', \"description\": \"Algorithme cryptographique asymétrique pour utiliser principalement pour chiffrer.\", \"show\": True},\n",
    "    {\"option\": 'ECC', \"description\": \"Algorithme cryptographique asymétrique sur courbes elliptiques.\", \"show\": True},\n",
    "    {\"option\": 'El-Gamal', \"description\": \"Algorithme cryptographique asymétrique sur groupe finis.\", \"show\": True},\n",
    "    {\"option\": \"Kyber\", \"description\": \"Algorithme cryptographique post-quantique standard pour la cryptographie hybride.\", \"show\": True},\n",
    "    {\"option\": 'NTRU', \"description\": \"Algorithme cryptographique post-quantique servant à chiffrer.\", \"show\": True}\n",
    "]\n",
    "algorithms_options = get_options(algorithms)"
   ]
  },
  {
   "cell_type": "code",
   "execution_count": 103,
   "id": "822e87c4-6344-4b9a-9186-143579fd19f8",
   "metadata": {},
   "outputs": [
    {
     "name": "stdout",
     "output_type": "stream",
     "text": [
      "\n",
      "                          _____  __   _ ____             \n",
      "                         |___ / / /_ / | ___|            \n",
      "                           |_ \\| '_ \\| |___ \\            \n",
      "                          ___) | (_) | |___) |  _        \n",
      "                         |____/_\\___/|_|____/_ | |_ ___  \n",
      "                         / __| '__| | | | '_ \\| __/ _ \\ \n",
      "                        | (__| |  | |_| | |_) | || (_) |\n",
      "                         \\___|_|   \\__, | .__/ \\__\\___/ \n",
      "                                   |___/|_|             \n",
      "\n",
      "\n",
      "--- Choisissez un algorithme ! ---\n",
      "\n",
      "1. Sha | Famille d'algorithmes de hachage, permet de creer une empreinte\n",
      "         numerique unique.\n",
      "2. ChaCha20 | Algorithme de chiffrement par flux.\n",
      "3. AES | Algorithme cryptographique symetrique.\n",
      "4. RSA | Algorithme cryptographique asymetrique pour utiliser principalement\n",
      "         pour chiffrer.\n",
      "5. ECC | Algorithme cryptographique asymetrique sur courbes elliptiques.\n",
      "6. El-Gamal | Algorithme cryptographique asymetrique sur groupe finis.\n",
      "7. Kyber | Algorithme cryptographique post-quantique standard pour la\n",
      "           cryptographie hybride.\n",
      "8. NTRU | Algorithme cryptographique post-quantique servant a chiffrer.\n",
      "\n",
      "--------------------------------------------------------------------------------\n"
     ]
    },
    {
     "name": "stdin",
     "output_type": "stream",
     "text": [
      "Votre choix :  3\n"
     ]
    }
   ],
   "source": [
    "display_menu('Choisissez un algorithme !', algorithms_options)\n",
    "choice = get_choice(\"Votre choix : \", list(algorithms_options.keys())+[\":q:\"], [\":q:\"])"
   ]
  },
  {
   "cell_type": "code",
   "execution_count": 104,
   "id": "4b807880-525e-44d7-8938-2af83505b53e",
   "metadata": {},
   "outputs": [
    {
     "data": {
      "text/plain": [
       "{'option': 'AES',\n",
       " 'description': 'Algorithme cryptographique symétrique.',\n",
       " 'show': True}"
      ]
     },
     "execution_count": 104,
     "metadata": {},
     "output_type": "execute_result"
    }
   ],
   "source": [
    "algorithms_options[choice]"
   ]
  },
  {
   "cell_type": "code",
   "execution_count": 105,
   "id": "2bc982ca-8602-46dd-ae34-30f7922dee67",
   "metadata": {},
   "outputs": [],
   "source": [
    "aes = [\n",
    "    {\"option\": '128 bits', \"description\": \"Offre un niveau de sécurité de 128 bits.\", \"show\": True},\n",
    "    {\"option\": '192 bits', \"description\": \"Offre un niveau de sécurité de 192 bits.\", \"show\": True},\n",
    "    {\"option\": '256 bits', \"description\": \"Offre un niveau de sécurité de 256 bits.\", \"show\": True},\n",
    "]\n",
    "aes_options = get_options(aes)"
   ]
  },
  {
   "cell_type": "code",
   "execution_count": 106,
   "id": "b4c8cfd2-22db-420d-8b62-8fa74984a70b",
   "metadata": {},
   "outputs": [
    {
     "name": "stdout",
     "output_type": "stream",
     "text": [
      "\n",
      "                          _____  __   _ ____             \n",
      "                         |___ / / /_ / | ___|            \n",
      "                           |_ \\| '_ \\| |___ \\            \n",
      "                          ___) | (_) | |___) |  _        \n",
      "                         |____/_\\___/|_|____/_ | |_ ___  \n",
      "                         / __| '__| | | | '_ \\| __/ _ \\ \n",
      "                        | (__| |  | |_| | |_) | || (_) |\n",
      "                         \\___|_|   \\__, | .__/ \\__\\___/ \n",
      "                                   |___/|_|             \n",
      "\n",
      "\n",
      "--- Choisissez la taille de la cle AES. ---\n",
      "\n",
      "1. 128 bits | Offre un niveau de securite de 128 bits.\n",
      "2. 192 bits | Offre un niveau de securite de 192 bits.\n",
      "3. 256 bits | Offre un niveau de securite de 256 bits.\n",
      "\n",
      "--------------------------------------------------------------------------------\n"
     ]
    },
    {
     "name": "stdin",
     "output_type": "stream",
     "text": [
      "Votre choix :  1\n"
     ]
    }
   ],
   "source": [
    "display_menu('Choisissez la taille de la clé AES.', aes_options)\n",
    "choice = get_choice(\"Votre choix : \", list(algorithms_options.keys()))"
   ]
  },
  {
   "cell_type": "code",
   "execution_count": 58,
   "id": "dbe1ca1d-e473-470c-9e76-7f68405c4365",
   "metadata": {},
   "outputs": [
    {
     "data": {
      "text/plain": [
       "{'option': '192 bits',\n",
       " 'description': 'Offre un niveau de sécurité de 192 bits.',\n",
       " 'show': True}"
      ]
     },
     "execution_count": 58,
     "metadata": {},
     "output_type": "execute_result"
    }
   ],
   "source": [
    "aes_options[choice]"
   ]
  },
  {
   "cell_type": "code",
   "execution_count": 62,
   "id": "c92e211a-c64e-42b8-9a17-cd2335ce4e5f",
   "metadata": {},
   "outputs": [],
   "source": [
    "sha = [\n",
    "    {\"option\": \"SHA-2 256\", \"description\": \"Produit une empreinte de 256 bits.\", \"show\": True},\n",
    "    {\"option\": \"SHA-2 384\", \"description\": \"Produit une empreinte de 384 bits.\", \"show\": True},\n",
    "    {\"option\": \"SHA-2 512\", \"description\": \"Produit une empreinte de 512 bits.\", \"show\": True},\n",
    "    {\"option\": \"SHA-3 256\", \"description\": \"Produit une empreinte de 256 bits.\", \"show\": True},\n",
    "    {\"option\": \"SHA-3 384\", \"description\": \"Produit une empreinte de 384 bits.\", \"show\": True},\n",
    "    {\"option\": \"SHA-3 512\", \"description\": \"Produit une empreinte de 512 bits.\", \"show\": True},\n",
    "]\n",
    "sha_options = get_options(sha)"
   ]
  },
  {
   "cell_type": "code",
   "execution_count": 81,
   "id": "ed0555c4-7f4a-43e1-ab91-ffb8214b8957",
   "metadata": {},
   "outputs": [
    {
     "name": "stdout",
     "output_type": "stream",
     "text": [
      "\n",
      "--- Choisissez une version de SHA. ---\n",
      "\n",
      "1. SHA-2 256 | Produit une empreinte de 256 bits.\n",
      "2. SHA-2 384 | Produit une empreinte de 384 bits.\n",
      "3. SHA-2 512 | Produit une empreinte de 512 bits.\n",
      "4. SHA-3 256 | Produit une empreinte de 256 bits.\n",
      "5. SHA-3 384 | Produit une empreinte de 384 bits.\n",
      "6. SHA-3 512 | Produit une empreinte de 512 bits.\n",
      "\n",
      "--------------------------------------------------------------------------------\n"
     ]
    }
   ],
   "source": [
    "display_menu(\"Choisissez une version de SHA.\", sha_options)"
   ]
  },
  {
   "cell_type": "code",
   "execution_count": 74,
   "id": "b630bfa1-b519-4f0a-b0ca-fbf199004237",
   "metadata": {},
   "outputs": [],
   "source": [
    "rsa = [\n",
    "    {\"option\": \"1024 bits\", \"description\": \"Equivaut à un niveau de sécurité de 80 bits.\", \"show\": True},\n",
    "    {\"option\": \"2048 bits\", \"description\": \"Equivaut à un niveau de sécurité de 112 bits.\", \"show\": False},\n",
    "    {\"option\": \"3072 bits\", \"description\": \"Equivaut à un niveau de sécurité de 128 bits.\", \"show\": True},\n",
    "    {\"option\": \"7680 bits\", \"description\": \"Equivaut à un niveau de sécurité de 192 bits.\", \"show\": True},\n",
    "    {\"option\": \"15360 bits\", \"description\": \"Equivaut à un niveau de sécurité de 256 bits.\", \"show\": True}\n",
    "]\n",
    "rsa_options = get_options(rsa)"
   ]
  },
  {
   "cell_type": "code",
   "execution_count": 91,
   "id": "92b2d893-df53-4a7e-b76b-f0b78790de74",
   "metadata": {},
   "outputs": [
    {
     "name": "stdout",
     "output_type": "stream",
     "text": [
      "\n",
      "--- Choisissez la taille de la clé RSA. ---\n",
      "\n",
      "1. 1024 bits | Equivaut à un niveau de sécurité de 80 bits.\n",
      "2. 3072 bits | Equivaut à un niveau de sécurité de 128 bits.\n",
      "3. 4096 bits | Equivaut à un niveau de sécurité de 192 bits.\n",
      "4. 15360 bits | Equivaut à un niveau de sécurité de 256 bits.\n",
      "\n",
      "--------------------------------------------------------------------------------\n"
     ]
    }
   ],
   "source": [
    "display_menu(\"Choisissez la taille de la clé RSA.\", rsa_options)"
   ]
  },
  {
   "cell_type": "code",
   "execution_count": 92,
   "id": "a4b2c99b-00b1-473c-a743-0f8b565012a1",
   "metadata": {},
   "outputs": [],
   "source": [
    "ecc = [\n",
    "    {\"option\": \"SECP 256 R1\", \"description\": \"Equivaut à un niveau de sécurité de 128 bits.\", \"show\": True},\n",
    "    {\"option\": \"SECP 384 R1\", \"description\": \"Equivaut à un niveau de sécurité de 192 bits.\", \"show\": True},\n",
    "    {\"option\": \"SECP 512 R1\", \"description\": \"Equivaut à un niveau de sécurité de 256 bits.\", \"show\": True}\n",
    "]\n",
    "ecc_options = get_options(ecc)"
   ]
  },
  {
   "cell_type": "code",
   "execution_count": 80,
   "id": "64b8f96f-c57c-42b7-a015-ea9ba0284586",
   "metadata": {},
   "outputs": [
    {
     "name": "stdout",
     "output_type": "stream",
     "text": [
      "\n",
      "--- Choisissez une courbe elliptique. ---\n",
      "\n",
      "1. SECP 256 R1 | Equivaut à un niveau de sécurité de 128 bits.\n",
      "2. SECP 384 R1 | Equivaut à un niveau de sécurité de 192 bits.\n",
      "3. SECP 512 R1 | Equivaut à un niveau de sécurité de 256 bits.\n",
      "\n",
      "--------------------------------------------------------------------------------\n"
     ]
    }
   ],
   "source": [
    "display_menu(\"Choisissez une courbe elliptique.\", ecc_options)"
   ]
  },
  {
   "cell_type": "code",
   "execution_count": 83,
   "id": "ef8f9cd2-d24f-4334-b144-00a83a29b0f4",
   "metadata": {},
   "outputs": [],
   "source": [
    "chacha20 = [\n",
    "    {\"option\": '128 bits', \"description\": \"Offre un niveau de sécurité de 128 bits.\", \"show\": True},\n",
    "    {\"option\": '192 bits', \"description\": \"Offre un niveau de sécurité de 192 bits.\", \"show\": True},\n",
    "    {\"option\": '256 bits', \"description\": \"Offre un niveau de sécurité de 256 bits.\", \"show\": True},\n",
    "]\n",
    "chacha20_options = get_options(chacha20)"
   ]
  },
  {
   "cell_type": "code",
   "execution_count": 84,
   "id": "ec8f56d9-346a-48a9-a15b-562fe0096e02",
   "metadata": {},
   "outputs": [
    {
     "name": "stdout",
     "output_type": "stream",
     "text": [
      "\n",
      "--- Choisissez la taille de la clé ChaCha20. ---\n",
      "\n",
      "1. SECP 256 R1 | Equivaut à un niveau de sécurité de 128 bits.\n",
      "2. SECP 384 R1 | Equivaut à un niveau de sécurité de 192 bits.\n",
      "3. SECP 512 R1 | Equivaut à un niveau de sécurité de 256 bits.\n",
      "\n",
      "--------------------------------------------------------------------------------\n"
     ]
    }
   ],
   "source": [
    "display_menu(\"Choisissez la taille de la clé ChaCha20.\", ecc_options)"
   ]
  },
  {
   "cell_type": "code",
   "execution_count": 89,
   "id": "6ae9dcd0-0b60-4014-822b-5502e03b8271",
   "metadata": {},
   "outputs": [],
   "source": [
    "kyber = [\n",
    "    {\"option\": 'ML-KEM-512', \"description\": \"Combine AES 128 bits + Kyber pour offrir un niveau de sécurité de 128 bits.\", \"show\": True},\n",
    "    {\"option\": 'ML-KEM-768', \"description\": \"Combine AES 192 bits + Kyber pour offrir un niveau de sécurité de 192 bits.\", \"show\": True},\n",
    "    {\"option\": 'ML-KEM-1024', \"description\": \"Combine AES 256 bits + Kyber pour offrir un niveau de sécurité de 256 bits.\", \"show\": True},\n",
    "]\n",
    "kyber_options = get_options(kyber)"
   ]
  },
  {
   "cell_type": "code",
   "execution_count": 90,
   "id": "0669d890-5c05-4875-93da-f99358d95aed",
   "metadata": {},
   "outputs": [
    {
     "name": "stdout",
     "output_type": "stream",
     "text": [
      "\n",
      "--- Choisissez la taille de la clé ChaCha20. ---\n",
      "\n",
      "1. ML-KEM-512 | Combine AES 128 bits + Kyber pour offrir un niveau de sécurité\n",
      "                de 128 bits.\n",
      "2. ML-KEM-768 | Combine AES 192 bits + Kyber pour offrir un niveau de sécurité\n",
      "                de 192 bits.\n",
      "3. ML-KEM-1024 | Combine AES 256 bits + Kyber pour offrir un niveau de sécurité\n",
      "                 de 256 bits.\n",
      "\n",
      "--------------------------------------------------------------------------------\n"
     ]
    }
   ],
   "source": [
    "display_menu(\"Choisissez la taille de la clé Kyber\", kyber_options)"
   ]
  },
  {
   "cell_type": "code",
   "execution_count": 94,
   "id": "2f1901b2-8279-46af-a5b1-66670a24ca4a",
   "metadata": {},
   "outputs": [],
   "source": [
    "ntru = [\n",
    "    {\"option\": 'NTRU-2048-509', \"description\": \"Offre un niveau de sécurité de 128 bits.\", \"show\": True},\n",
    "    {\"option\": 'NTRU-2048-677', \"description\": \"Offre un niveau de sécurité de 192 bits.\", \"show\": True},\n",
    "    {\"option\": 'NTRU-4096-821', \"description\": \"Offre un niveau de sécurité de 256 bits.\", \"show\": True},\n",
    "]\n",
    "ntru_options = get_options(ntru)"
   ]
  },
  {
   "cell_type": "code",
   "execution_count": 101,
   "id": "e2ba126b-c0ed-4ca6-9147-1a9b71d762b6",
   "metadata": {},
   "outputs": [
    {
     "name": "stdout",
     "output_type": "stream",
     "text": [
      "\n",
      "--- Choisissez la taille de la cle NTRU. ---\n",
      "\n",
      "1. NTRU-2048-509 | Offre un niveau de securite de 128 bits.\n",
      "2. NTRU-2048-677 | Offre un niveau de securite de 192 bits.\n",
      "3. NTRU-4096-821 | Offre un niveau de securite de 256 bits.\n",
      "\n",
      "--------------------------------------------------------------------------------\n"
     ]
    }
   ],
   "source": [
    "display_menu(\"Choisissez la taille de la clé NTRU.\", ntru_options)"
   ]
  },
  {
   "cell_type": "code",
   "execution_count": 107,
   "id": "ffa312ce-094b-4fb4-94b4-d4182728ec72",
   "metadata": {},
   "outputs": [],
   "source": [
    "import yaml"
   ]
  },
  {
   "cell_type": "code",
   "execution_count": 110,
   "id": "7ba4a535-53b0-41c4-ae6a-2565e7eb7707",
   "metadata": {},
   "outputs": [],
   "source": [
    "def load_config(file_path):\n",
    "    try:\n",
    "        with open(file_path, 'r') as file:\n",
    "            options_data = yaml.load(file, Loader=yaml.SafeLoader)\n",
    "        return options_data\n",
    "    except FileNotFoundError:\n",
    "        print(f\"Error: The file '{yaml_file_path}' was not found.\")\n",
    "    except yaml.YAMLError as e:\n",
    "        print(f\"Error loading YAML file: {e}\")\n",
    "    except Exception as e:\n",
    "        print(f\"An unexpected error occurred: {e}\")"
   ]
  },
  {
   "cell_type": "code",
   "execution_count": 112,
   "id": "80063523-e548-4648-9f38-f4de42b8ec87",
   "metadata": {},
   "outputs": [
    {
     "data": {
      "text/plain": [
       "{'algorithms': {'sha': [{'description': \"Famille d'algorithmes de hachage, permet de créer une empreinte numérique unique.\"},\n",
       "   {'show': True}],\n",
       "  'chacha20': [{'description': 'Algorithme de chiffrement par flux.'},\n",
       "   {'show': True}],\n",
       "  'aes': [{'description': 'Algorithme cryptographique symétrique.'},\n",
       "   {'show': True}],\n",
       "  'rsa': [{'description': \"Algorithme cryptographique asymétrique reposant sur la factorisation d'entiers.\"},\n",
       "   {'show': True}],\n",
       "  'ecc': [{'description': 'Algorithme cryptographique asymétrique sur courbes elliptiques.'},\n",
       "   {'show': True}],\n",
       "  'kyber': [{'description': 'Algorithme cryptographique post-quantique standard pour la cryptographie hybride.'},\n",
       "   {'show': True}],\n",
       "  'ntru': [{'description': 'Algorithme cryptographique post-quantique servant à chiffrer.'},\n",
       "   {'show': True}]},\n",
       " 'sha': [{'option': 'SHA-2 256',\n",
       "   'description': 'Produit une empreinte de 256 bits.',\n",
       "   'show': True},\n",
       "  {'option': 'SHA-2 384',\n",
       "   'description': 'Produit une empreinte de 384 bits.',\n",
       "   'show': True},\n",
       "  {'option': 'SHA-2 512',\n",
       "   'description': 'Produit une empreinte de 512 bits.',\n",
       "   'show': True},\n",
       "  {'option': 'SHA-3 256',\n",
       "   'description': 'Produit une empreinte de 256 bits.',\n",
       "   'show': True},\n",
       "  {'option': 'SHA-3 384',\n",
       "   'description': 'Produit une empreinte de 384 bits.',\n",
       "   'show': True},\n",
       "  {'option': 'SHA-3 512',\n",
       "   'description': 'Produit une empreinte de 512 bits.',\n",
       "   'show': True}],\n",
       " 'aes': [{'option': '128 bits',\n",
       "   'description': 'Offre un niveau de sécurité de 128 bits.',\n",
       "   'show': True},\n",
       "  {'option': '192 bits',\n",
       "   'description': 'Offre un niveau de sécurité de 192 bits.',\n",
       "   'show': True},\n",
       "  {'option': '256 bits',\n",
       "   'description': 'Offre un niveau de sécurité de 256 bits.',\n",
       "   'show': True}],\n",
       " 'rsa': [{'option': '1024 bits',\n",
       "   'description': 'Equivaut à un niveau de sécurité de 80 bits.',\n",
       "   'show': True},\n",
       "  {'option': '2048 bits',\n",
       "   'description': 'Equivaut à un niveau de sécurité de 112 bits.',\n",
       "   'show': False},\n",
       "  {'option': '3072 bits',\n",
       "   'description': 'Equivaut à un niveau de sécurité de 128 bits.',\n",
       "   'show': True},\n",
       "  {'option': '7680 bits',\n",
       "   'description': 'Equivaut à un niveau de sécurité de 192 bits.',\n",
       "   'show': True},\n",
       "  {'option': '15360 bits',\n",
       "   'description': 'Equivaut à un niveau de sécurité de 256 bits.',\n",
       "   'show': True}],\n",
       " 'ecc': [{'option': 'SECP 256 R1',\n",
       "   'description': 'Equivaut à un niveau de sécurité de 128 bits.',\n",
       "   'show': True},\n",
       "  {'option': 'SECP 384 R1',\n",
       "   'description': 'Equivaut à un niveau de sécurité de 192 bits.',\n",
       "   'show': True},\n",
       "  {'option': 'SECP 512 R1',\n",
       "   'description': 'Equivaut à un niveau de sécurité de 256 bits.',\n",
       "   'show': True}],\n",
       " 'chacha20': [{'option': '128 bits',\n",
       "   'description': 'Offre un niveau de sécurité de 128 bits.',\n",
       "   'show': True},\n",
       "  {'option': '192 bits',\n",
       "   'description': 'Offre un niveau de sécurité de 192 bits.',\n",
       "   'show': True},\n",
       "  {'option': '256 bits',\n",
       "   'description': 'Offre un niveau de sécurité de 256 bits.',\n",
       "   'show': True}],\n",
       " 'kyber': [{'option': 'ML-KEM-512',\n",
       "   'description': 'Combine AES 128 bits + Kyber pour offrir un niveau de sécurité de 128 bits.',\n",
       "   'show': True},\n",
       "  {'option': 'ML-KEM-768',\n",
       "   'description': 'Combine AES 192 bits + Kyber pour offrir un niveau de sécurité de 192 bits.',\n",
       "   'show': True},\n",
       "  {'option': 'ML-KEM-1024',\n",
       "   'description': 'Combine AES 256 bits + Kyber pour offrir un niveau de sécurité de 256 bits.',\n",
       "   'show': True}],\n",
       " 'ntru': [{'option': 'NTRU-2048-509',\n",
       "   'description': 'Offre un niveau de sécurité de 128 bits.',\n",
       "   'show': True},\n",
       "  {'option': 'NTRU-2048-677',\n",
       "   'description': 'Offre un niveau de sécurité de 192 bits.',\n",
       "   'show': True},\n",
       "  {'option': 'NTRU-4096-821',\n",
       "   'description': 'Offre un niveau de sécurité de 256 bits.',\n",
       "   'show': True}]}"
      ]
     },
     "execution_count": 112,
     "metadata": {},
     "output_type": "execute_result"
    }
   ],
   "source": [
    "load_config('./config.yaml')"
   ]
  },
  {
   "cell_type": "code",
   "execution_count": 7,
   "id": "cdb055b4-cd11-4748-8b9b-ba9f2236276c",
   "metadata": {},
   "outputs": [],
   "source": [
    "import os\n",
    "from kyber_py.kyber import Kyber512, Kyber768, Kyber1024\n",
    "from cryptography.hazmat.primitives.ciphers.aead import AESGCM\n",
    "from typing import Tuple"
   ]
  },
  {
   "cell_type": "code",
   "execution_count": 8,
   "id": "57e22130-76b0-4320-a5f4-663101753281",
   "metadata": {},
   "outputs": [],
   "source": [
    "def hybrid_encrypt(\n",
    "    message: str,\n",
    "    aes_key_size: int = 256\n",
    ") -> Tuple[\n",
    "    bytes,  # nonce || tag || ciphertext\n",
    "    bytes,  # raw AES key\n",
    "    bytes,  # Kyber ciphertext\n",
    "    bytes,  # Kyber public key\n",
    "    bytes   # Kyber private key\n",
    "]:\n",
    "    \"\"\"\n",
    "    Hybrid encrypt a UTF-8 `message` with:\n",
    "      - AES-GCM (128/192/256 bits)\n",
    "      - Kyber KEM (Kyber512/768/1024)\n",
    "\n",
    "    Supported mappings:\n",
    "      128 → Kyber512\n",
    "      192 → Kyber768\n",
    "      256 → Kyber1024\n",
    "    \"\"\"\n",
    "    # 1. Encode the input string as UTF-8 bytes\n",
    "    message_bytes = message.encode('utf-8')\n",
    "\n",
    "    # 2. Select the Kyber class based on AES key size\n",
    "    kem_classes = {\n",
    "        128: Kyber512,\n",
    "        192: Kyber768,\n",
    "        256: Kyber1024\n",
    "    }\n",
    "    try:\n",
    "        Kem = kem_classes[aes_key_size]\n",
    "    except KeyError:\n",
    "        raise ValueError(f\"AES key size must be one of {list(kem_classes)} bits\")\n",
    "\n",
    "    # 3. Generate Kyber keypair and encapsulate\n",
    "    pk, sk = Kem.keygen()\n",
    "    shared_secret, kem_ciphertext = Kem.encaps(pk)\n",
    "\n",
    "    # 4. Truncate the shared secret to derive the AES key\n",
    "    aes_key = shared_secret[: aes_key_size // 8]\n",
    "\n",
    "    # 5. AES-GCM encryption\n",
    "    aesgcm = AESGCM(aes_key)\n",
    "    nonce = os.urandom(12)  # 96-bit nonce\n",
    "    ciphertext = aesgcm.encrypt(nonce, message_bytes, None)\n",
    "\n",
    "    # 6. Return combined ciphertext and keys\n",
    "    return (\n",
    "        ciphertext,\n",
    "        aes_key,\n",
    "        kem_ciphertext,\n",
    "        pk,\n",
    "        sk\n",
    "    )"
   ]
  },
  {
   "cell_type": "code",
   "execution_count": null,
   "id": "81959c55-bfba-474f-838a-28ede73674f4",
   "metadata": {},
   "outputs": [],
   "source": []
  },
  {
   "cell_type": "code",
   "execution_count": null,
   "id": "f4d02f8e-a523-4162-8825-3c3acf8f38e2",
   "metadata": {},
   "outputs": [],
   "source": []
  }
 ],
 "metadata": {
  "kernelspec": {
   "display_name": "Python 3 (ipykernel)",
   "language": "python",
   "name": "python3"
  },
  "language_info": {
   "codemirror_mode": {
    "name": "ipython",
    "version": 3
   },
   "file_extension": ".py",
   "mimetype": "text/x-python",
   "name": "python",
   "nbconvert_exporter": "python",
   "pygments_lexer": "ipython3",
   "version": "3.12.2"
  }
 },
 "nbformat": 4,
 "nbformat_minor": 5
}
