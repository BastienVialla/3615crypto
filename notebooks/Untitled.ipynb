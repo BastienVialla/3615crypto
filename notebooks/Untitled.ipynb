{
 "cells": [
  {
   "cell_type": "code",
   "execution_count": 102,
   "id": "3ac7ad04-c0a5-4399-8d1a-9b5b6820cb2c",
   "metadata": {},
   "outputs": [],
   "source": [
    "from __future__ import annotations\n",
    "import textwrap\n",
    "from typing import List, Set\n",
    "import unicodedata\n",
    "\n",
    "from logos import LOGO_HEADER_SCREEN\n",
    "MINITEL_SCREEN_WHIDTH = 80\n",
    "\n",
    "def normalize_string(string):\n",
    "  \"\"\"\n",
    "  Normalise une chaîne de caractères en remplaçant les caractères accentués\n",
    "  par leurs équivalents sans accent.\n",
    "\n",
    "  Args:\n",
    "    chaine: La chaîne de caractères à normaliser.\n",
    "\n",
    "  Returns:\n",
    "    La chaîne normalisée sans accents.\n",
    "  \"\"\"\n",
    "  # 1. Normaliser la chaîne en utilisant la forme NFD (Canonical Decomposition)\n",
    "  # Cette étape décompose les caractères accentués en leur caractère de base\n",
    "  # suivi de leur signe diacritique combinant.\n",
    "  # Par exemple, 'é' devient 'e' suivi du caractère U+0301 (accent aigu combinant).\n",
    "  normalized_string = unicodedata.normalize('NFD', string)\n",
    "\n",
    "  # 2. Filtrer les caractères pour exclure les signes diacritiques combinants\n",
    "  # Les signes diacritiques combinants ont une catégorie Unicode qui commence par 'M' (Mark).\n",
    "  # On crée une nouvelle chaîne en incluant uniquement les caractères\n",
    "  # dont la catégorie n'est PAS un signe diacritique combinant ('Mn' = Mark, Nonspacing).\n",
    "  normalized_string = ''.join([\n",
    "      car for car in normalized_string\n",
    "      if unicodedata.category(car) != 'Mn'\n",
    "  ])\n",
    "\n",
    "  return normalized_string\n",
    "\n",
    "def display_menu(title: str, options: dict):\n",
    "    \"\"\"\n",
    "    Affiche un menu numéroté à partir d'un dictionnaire.\n",
    "\n",
    "    Args:\n",
    "        title (str): Le titre à afficher au-dessus du menu.\n",
    "        options (dict): Un dictionnaire où les clés sont les numéros\n",
    "                        d'option (str) et les valeurs sont les descriptions (str).\n",
    "                        Ex: {'1': 'Option A', '2': 'Option B'}\n",
    "    \"\"\"\n",
    "    print(LOGO_HEADER_SCREEN)\n",
    "    normalized_title = normalize_string(title)\n",
    "    print(f\"\\n--- {normalized_title} ---\\n\")\n",
    "    if not options:\n",
    "        print(\"Aucune option disponible.\")\n",
    "    else:\n",
    "        # Détermine la largeur nécessaire pour les numéros d'option\n",
    "        # max_key_width = max(len(key) for key in options.keys()) if options else 0\n",
    "        for key, value in options.items():\n",
    "            if isinstance(value, dict):\n",
    "                if value.get('show', True) == False:\n",
    "                    continue\n",
    "                title = value['option']\n",
    "                description = value['description']\n",
    "                prefix = f'{key}. {title} | '\n",
    "                line = prefix+description\n",
    "                line = normalize_string(line)\n",
    "                if len(line) > MINITEL_SCREEN_WHIDTH:\n",
    "                    # look for previous space to cut the line\n",
    "                    for i in range(MINITEL_SCREEN_WHIDTH, 0, -1):\n",
    "                        if line[i] == \" \":\n",
    "                            print(line[:i])\n",
    "                            print(' '*(len(prefix)-1)+line[i:])\n",
    "                            break\n",
    "                else:\n",
    "                    print(line)\n",
    "            else:\n",
    "                print(f\"{key}. {value}\") # Version la plus simple\n",
    "                \n",
    "    print(\"\\n\"+\"-\" * MINITEL_SCREEN_WHIDTH) # Ligne de séparation simple\n",
    "\n",
    "def get_choice(prompt: str, valid_choices: List[str] | Set[str], to_hide: None | List[str] | Set[str] = None) -> str:\n",
    "    \"\"\"\n",
    "    \n",
    "    \"\"\"\n",
    "    # Convertir en set pour une recherche efficace, si ce n'est pas déjà le cas\n",
    "    valid_set = set(valid_choices)\n",
    "    if not valid_set:\n",
    "         # Gérer le cas où aucune option n'est valide (ne devrait pas arriver si le menu est bien construit)\n",
    "         print(\"Erreur : Aucune option valide fournie à get_choice.\")\n",
    "         return \"\" # Ou lever une exception\n",
    "\n",
    "    while True:\n",
    "        choice = input(prompt).strip()\n",
    "        if choice in valid_set:\n",
    "            return choice\n",
    "        else:\n",
    "            # Construit un message d'erreur plus lisible\n",
    "            valid_options_str = \", \".join(sorted(list(valid_set)))\n",
    "            for x in to_hide:\n",
    "                valid_options_str = valid_options_str.replace(x, '')\n",
    "            valid_options_str = textwrap.fill(valid_options_str, MINITEL_SCREEN_WHIDTH)\n",
    "            print(f\"Choix invalide. Veuillez entrer un numero parmi : {valid_options_str}\")\n",
    "\n",
    "def get_options(options: list):\n",
    "    show = list()\n",
    "    for x in options:\n",
    "        if x['show']:\n",
    "            show.append(x)\n",
    "    res = {}\n",
    "    i = 1\n",
    "    for x in show:\n",
    "        if x['show']:\n",
    "            res[str(i)] = x\n",
    "            i += 1\n",
    "    return res"
   ]
  },
  {
   "cell_type": "code",
   "execution_count": 98,
   "id": "eddead8a-688f-49d4-8c67-640e478cb994",
   "metadata": {},
   "outputs": [],
   "source": [
    "algorithms = [\n",
    "    {\"option\": 'Sha', \"description\": \"Famille d'algorithmes de hachage, permet de créer une empreinte numérique unique.\", \"show\": True},\n",
    "    {\"option\": 'ChaCha20', \"description\": \"Algorithme de chiffrement par flux.\", \"show\": True},\n",
    "    {\"option\": 'AES', \"description\": \"Algorithme cryptographique symétrique.\", \"show\": True},\n",
    "    {\"option\": 'RSA', \"description\": \"Algorithme cryptographique asymétrique pour utiliser principalement pour chiffrer.\", \"show\": True},\n",
    "    {\"option\": 'ECC', \"description\": \"Algorithme cryptographique asymétrique sur courbes elliptiques.\", \"show\": True},\n",
    "    {\"option\": 'El-Gamal', \"description\": \"Algorithme cryptographique asymétrique sur groupe finis.\", \"show\": True},\n",
    "    {\"option\": \"Kyber\", \"description\": \"Algorithme cryptographique post-quantique standard pour la cryptographie hybride.\", \"show\": True},\n",
    "    {\"option\": 'NTRU', \"description\": \"Algorithme cryptographique post-quantique servant à chiffrer.\", \"show\": True}\n",
    "]\n",
    "algorithms_options = get_options(algorithms)"
   ]
  },
  {
   "cell_type": "code",
   "execution_count": 103,
   "id": "822e87c4-6344-4b9a-9186-143579fd19f8",
   "metadata": {},
   "outputs": [
    {
     "name": "stdout",
     "output_type": "stream",
     "text": [
      "\n",
      "                          _____  __   _ ____             \n",
      "                         |___ / / /_ / | ___|            \n",
      "                           |_ \\| '_ \\| |___ \\            \n",
      "                          ___) | (_) | |___) |  _        \n",
      "                         |____/_\\___/|_|____/_ | |_ ___  \n",
      "                         / __| '__| | | | '_ \\| __/ _ \\ \n",
      "                        | (__| |  | |_| | |_) | || (_) |\n",
      "                         \\___|_|   \\__, | .__/ \\__\\___/ \n",
      "                                   |___/|_|             \n",
      "\n",
      "\n",
      "--- Choisissez un algorithme ! ---\n",
      "\n",
      "1. Sha | Famille d'algorithmes de hachage, permet de creer une empreinte\n",
      "         numerique unique.\n",
      "2. ChaCha20 | Algorithme de chiffrement par flux.\n",
      "3. AES | Algorithme cryptographique symetrique.\n",
      "4. RSA | Algorithme cryptographique asymetrique pour utiliser principalement\n",
      "         pour chiffrer.\n",
      "5. ECC | Algorithme cryptographique asymetrique sur courbes elliptiques.\n",
      "6. El-Gamal | Algorithme cryptographique asymetrique sur groupe finis.\n",
      "7. Kyber | Algorithme cryptographique post-quantique standard pour la\n",
      "           cryptographie hybride.\n",
      "8. NTRU | Algorithme cryptographique post-quantique servant a chiffrer.\n",
      "\n",
      "--------------------------------------------------------------------------------\n"
     ]
    },
    {
     "name": "stdin",
     "output_type": "stream",
     "text": [
      "Votre choix :  3\n"
     ]
    }
   ],
   "source": [
    "display_menu('Choisissez un algorithme !', algorithms_options)\n",
    "choice = get_choice(\"Votre choix : \", list(algorithms_options.keys())+[\":q:\"], [\":q:\"])"
   ]
  },
  {
   "cell_type": "code",
   "execution_count": 104,
   "id": "4b807880-525e-44d7-8938-2af83505b53e",
   "metadata": {},
   "outputs": [
    {
     "data": {
      "text/plain": [
       "{'option': 'AES',\n",
       " 'description': 'Algorithme cryptographique symétrique.',\n",
       " 'show': True}"
      ]
     },
     "execution_count": 104,
     "metadata": {},
     "output_type": "execute_result"
    }
   ],
   "source": [
    "algorithms_options[choice]"
   ]
  },
  {
   "cell_type": "code",
   "execution_count": 105,
   "id": "2bc982ca-8602-46dd-ae34-30f7922dee67",
   "metadata": {},
   "outputs": [],
   "source": [
    "aes = [\n",
    "    {\"option\": '128 bits', \"description\": \"Offre un niveau de sécurité de 128 bits.\", \"show\": True},\n",
    "    {\"option\": '192 bits', \"description\": \"Offre un niveau de sécurité de 192 bits.\", \"show\": True},\n",
    "    {\"option\": '256 bits', \"description\": \"Offre un niveau de sécurité de 256 bits.\", \"show\": True},\n",
    "]\n",
    "aes_options = get_options(aes)"
   ]
  },
  {
   "cell_type": "code",
   "execution_count": 106,
   "id": "b4c8cfd2-22db-420d-8b62-8fa74984a70b",
   "metadata": {},
   "outputs": [
    {
     "name": "stdout",
     "output_type": "stream",
     "text": [
      "\n",
      "                          _____  __   _ ____             \n",
      "                         |___ / / /_ / | ___|            \n",
      "                           |_ \\| '_ \\| |___ \\            \n",
      "                          ___) | (_) | |___) |  _        \n",
      "                         |____/_\\___/|_|____/_ | |_ ___  \n",
      "                         / __| '__| | | | '_ \\| __/ _ \\ \n",
      "                        | (__| |  | |_| | |_) | || (_) |\n",
      "                         \\___|_|   \\__, | .__/ \\__\\___/ \n",
      "                                   |___/|_|             \n",
      "\n",
      "\n",
      "--- Choisissez la taille de la cle AES. ---\n",
      "\n",
      "1. 128 bits | Offre un niveau de securite de 128 bits.\n",
      "2. 192 bits | Offre un niveau de securite de 192 bits.\n",
      "3. 256 bits | Offre un niveau de securite de 256 bits.\n",
      "\n",
      "--------------------------------------------------------------------------------\n"
     ]
    },
    {
     "name": "stdin",
     "output_type": "stream",
     "text": [
      "Votre choix :  1\n"
     ]
    }
   ],
   "source": [
    "display_menu('Choisissez la taille de la clé AES.', aes_options)\n",
    "choice = get_choice(\"Votre choix : \", list(algorithms_options.keys()))"
   ]
  },
  {
   "cell_type": "code",
   "execution_count": 58,
   "id": "dbe1ca1d-e473-470c-9e76-7f68405c4365",
   "metadata": {},
   "outputs": [
    {
     "data": {
      "text/plain": [
       "{'option': '192 bits',\n",
       " 'description': 'Offre un niveau de sécurité de 192 bits.',\n",
       " 'show': True}"
      ]
     },
     "execution_count": 58,
     "metadata": {},
     "output_type": "execute_result"
    }
   ],
   "source": [
    "aes_options[choice]"
   ]
  },
  {
   "cell_type": "code",
   "execution_count": 62,
   "id": "c92e211a-c64e-42b8-9a17-cd2335ce4e5f",
   "metadata": {},
   "outputs": [],
   "source": [
    "sha = [\n",
    "    {\"option\": \"SHA-2 256\", \"description\": \"Produit une empreinte de 256 bits.\", \"show\": True},\n",
    "    {\"option\": \"SHA-2 384\", \"description\": \"Produit une empreinte de 384 bits.\", \"show\": True},\n",
    "    {\"option\": \"SHA-2 512\", \"description\": \"Produit une empreinte de 512 bits.\", \"show\": True},\n",
    "    {\"option\": \"SHA-3 256\", \"description\": \"Produit une empreinte de 256 bits.\", \"show\": True},\n",
    "    {\"option\": \"SHA-3 384\", \"description\": \"Produit une empreinte de 384 bits.\", \"show\": True},\n",
    "    {\"option\": \"SHA-3 512\", \"description\": \"Produit une empreinte de 512 bits.\", \"show\": True},\n",
    "]\n",
    "sha_options = get_options(sha)"
   ]
  },
  {
   "cell_type": "code",
   "execution_count": 81,
   "id": "ed0555c4-7f4a-43e1-ab91-ffb8214b8957",
   "metadata": {},
   "outputs": [
    {
     "name": "stdout",
     "output_type": "stream",
     "text": [
      "\n",
      "--- Choisissez une version de SHA. ---\n",
      "\n",
      "1. SHA-2 256 | Produit une empreinte de 256 bits.\n",
      "2. SHA-2 384 | Produit une empreinte de 384 bits.\n",
      "3. SHA-2 512 | Produit une empreinte de 512 bits.\n",
      "4. SHA-3 256 | Produit une empreinte de 256 bits.\n",
      "5. SHA-3 384 | Produit une empreinte de 384 bits.\n",
      "6. SHA-3 512 | Produit une empreinte de 512 bits.\n",
      "\n",
      "--------------------------------------------------------------------------------\n"
     ]
    }
   ],
   "source": [
    "display_menu(\"Choisissez une version de SHA.\", sha_options)"
   ]
  },
  {
   "cell_type": "code",
   "execution_count": 74,
   "id": "b630bfa1-b519-4f0a-b0ca-fbf199004237",
   "metadata": {},
   "outputs": [],
   "source": [
    "rsa = [\n",
    "    {\"option\": \"1024 bits\", \"description\": \"Equivaut à un niveau de sécurité de 80 bits.\", \"show\": True},\n",
    "    {\"option\": \"2048 bits\", \"description\": \"Equivaut à un niveau de sécurité de 112 bits.\", \"show\": False},\n",
    "    {\"option\": \"3072 bits\", \"description\": \"Equivaut à un niveau de sécurité de 128 bits.\", \"show\": True},\n",
    "    {\"option\": \"7680 bits\", \"description\": \"Equivaut à un niveau de sécurité de 192 bits.\", \"show\": True},\n",
    "    {\"option\": \"15360 bits\", \"description\": \"Equivaut à un niveau de sécurité de 256 bits.\", \"show\": True}\n",
    "]\n",
    "rsa_options = get_options(rsa)"
   ]
  },
  {
   "cell_type": "code",
   "execution_count": 91,
   "id": "92b2d893-df53-4a7e-b76b-f0b78790de74",
   "metadata": {},
   "outputs": [
    {
     "name": "stdout",
     "output_type": "stream",
     "text": [
      "\n",
      "--- Choisissez la taille de la clé RSA. ---\n",
      "\n",
      "1. 1024 bits | Equivaut à un niveau de sécurité de 80 bits.\n",
      "2. 3072 bits | Equivaut à un niveau de sécurité de 128 bits.\n",
      "3. 4096 bits | Equivaut à un niveau de sécurité de 192 bits.\n",
      "4. 15360 bits | Equivaut à un niveau de sécurité de 256 bits.\n",
      "\n",
      "--------------------------------------------------------------------------------\n"
     ]
    }
   ],
   "source": [
    "display_menu(\"Choisissez la taille de la clé RSA.\", rsa_options)"
   ]
  },
  {
   "cell_type": "code",
   "execution_count": 92,
   "id": "a4b2c99b-00b1-473c-a743-0f8b565012a1",
   "metadata": {},
   "outputs": [],
   "source": [
    "ecc = [\n",
    "    {\"option\": \"SECP 256 R1\", \"description\": \"Equivaut à un niveau de sécurité de 128 bits.\", \"show\": True},\n",
    "    {\"option\": \"SECP 384 R1\", \"description\": \"Equivaut à un niveau de sécurité de 192 bits.\", \"show\": True},\n",
    "    {\"option\": \"SECP 512 R1\", \"description\": \"Equivaut à un niveau de sécurité de 256 bits.\", \"show\": True}\n",
    "]\n",
    "ecc_options = get_options(ecc)"
   ]
  },
  {
   "cell_type": "code",
   "execution_count": 80,
   "id": "64b8f96f-c57c-42b7-a015-ea9ba0284586",
   "metadata": {},
   "outputs": [
    {
     "name": "stdout",
     "output_type": "stream",
     "text": [
      "\n",
      "--- Choisissez une courbe elliptique. ---\n",
      "\n",
      "1. SECP 256 R1 | Equivaut à un niveau de sécurité de 128 bits.\n",
      "2. SECP 384 R1 | Equivaut à un niveau de sécurité de 192 bits.\n",
      "3. SECP 512 R1 | Equivaut à un niveau de sécurité de 256 bits.\n",
      "\n",
      "--------------------------------------------------------------------------------\n"
     ]
    }
   ],
   "source": [
    "display_menu(\"Choisissez une courbe elliptique.\", ecc_options)"
   ]
  },
  {
   "cell_type": "code",
   "execution_count": 83,
   "id": "ef8f9cd2-d24f-4334-b144-00a83a29b0f4",
   "metadata": {},
   "outputs": [],
   "source": [
    "chacha20 = [\n",
    "    {\"option\": '128 bits', \"description\": \"Offre un niveau de sécurité de 128 bits.\", \"show\": True},\n",
    "    {\"option\": '192 bits', \"description\": \"Offre un niveau de sécurité de 192 bits.\", \"show\": True},\n",
    "    {\"option\": '256 bits', \"description\": \"Offre un niveau de sécurité de 256 bits.\", \"show\": True},\n",
    "]\n",
    "chacha20_options = get_options(chacha20)"
   ]
  },
  {
   "cell_type": "code",
   "execution_count": 84,
   "id": "ec8f56d9-346a-48a9-a15b-562fe0096e02",
   "metadata": {},
   "outputs": [
    {
     "name": "stdout",
     "output_type": "stream",
     "text": [
      "\n",
      "--- Choisissez la taille de la clé ChaCha20. ---\n",
      "\n",
      "1. SECP 256 R1 | Equivaut à un niveau de sécurité de 128 bits.\n",
      "2. SECP 384 R1 | Equivaut à un niveau de sécurité de 192 bits.\n",
      "3. SECP 512 R1 | Equivaut à un niveau de sécurité de 256 bits.\n",
      "\n",
      "--------------------------------------------------------------------------------\n"
     ]
    }
   ],
   "source": [
    "display_menu(\"Choisissez la taille de la clé ChaCha20.\", ecc_options)"
   ]
  },
  {
   "cell_type": "code",
   "execution_count": 89,
   "id": "6ae9dcd0-0b60-4014-822b-5502e03b8271",
   "metadata": {},
   "outputs": [],
   "source": [
    "kyber = [\n",
    "    {\"option\": 'ML-KEM-512', \"description\": \"Combine AES 128 bits + Kyber pour offrir un niveau de sécurité de 128 bits.\", \"show\": True},\n",
    "    {\"option\": 'ML-KEM-768', \"description\": \"Combine AES 192 bits + Kyber pour offrir un niveau de sécurité de 192 bits.\", \"show\": True},\n",
    "    {\"option\": 'ML-KEM-1024', \"description\": \"Combine AES 256 bits + Kyber pour offrir un niveau de sécurité de 256 bits.\", \"show\": True},\n",
    "]\n",
    "kyber_options = get_options(kyber)"
   ]
  },
  {
   "cell_type": "code",
   "execution_count": 90,
   "id": "0669d890-5c05-4875-93da-f99358d95aed",
   "metadata": {},
   "outputs": [
    {
     "name": "stdout",
     "output_type": "stream",
     "text": [
      "\n",
      "--- Choisissez la taille de la clé ChaCha20. ---\n",
      "\n",
      "1. ML-KEM-512 | Combine AES 128 bits + Kyber pour offrir un niveau de sécurité\n",
      "                de 128 bits.\n",
      "2. ML-KEM-768 | Combine AES 192 bits + Kyber pour offrir un niveau de sécurité\n",
      "                de 192 bits.\n",
      "3. ML-KEM-1024 | Combine AES 256 bits + Kyber pour offrir un niveau de sécurité\n",
      "                 de 256 bits.\n",
      "\n",
      "--------------------------------------------------------------------------------\n"
     ]
    }
   ],
   "source": [
    "display_menu(\"Choisissez la taille de la clé Kyber\", kyber_options)"
   ]
  },
  {
   "cell_type": "code",
   "execution_count": 94,
   "id": "2f1901b2-8279-46af-a5b1-66670a24ca4a",
   "metadata": {},
   "outputs": [],
   "source": [
    "ntru = [\n",
    "    {\"option\": 'NTRU-2048-509', \"description\": \"Offre un niveau de sécurité de 128 bits.\", \"show\": True},\n",
    "    {\"option\": 'NTRU-2048-677', \"description\": \"Offre un niveau de sécurité de 192 bits.\", \"show\": True},\n",
    "    {\"option\": 'NTRU-4096-821', \"description\": \"Offre un niveau de sécurité de 256 bits.\", \"show\": True},\n",
    "]\n",
    "ntru_options = get_options(ntru)"
   ]
  },
  {
   "cell_type": "code",
   "execution_count": 101,
   "id": "e2ba126b-c0ed-4ca6-9147-1a9b71d762b6",
   "metadata": {},
   "outputs": [
    {
     "name": "stdout",
     "output_type": "stream",
     "text": [
      "\n",
      "--- Choisissez la taille de la cle NTRU. ---\n",
      "\n",
      "1. NTRU-2048-509 | Offre un niveau de securite de 128 bits.\n",
      "2. NTRU-2048-677 | Offre un niveau de securite de 192 bits.\n",
      "3. NTRU-4096-821 | Offre un niveau de securite de 256 bits.\n",
      "\n",
      "--------------------------------------------------------------------------------\n"
     ]
    }
   ],
   "source": [
    "display_menu(\"Choisissez la taille de la clé NTRU.\", ntru_options)"
   ]
  },
  {
   "cell_type": "code",
   "execution_count": 107,
   "id": "ffa312ce-094b-4fb4-94b4-d4182728ec72",
   "metadata": {},
   "outputs": [],
   "source": [
    "import yaml"
   ]
  },
  {
   "cell_type": "code",
   "execution_count": 110,
   "id": "7ba4a535-53b0-41c4-ae6a-2565e7eb7707",
   "metadata": {},
   "outputs": [],
   "source": [
    "def load_config(file_path):\n",
    "    try:\n",
    "        with open(file_path, 'r') as file:\n",
    "            options_data = yaml.load(file, Loader=yaml.SafeLoader)\n",
    "        return options_data\n",
    "    except FileNotFoundError:\n",
    "        print(f\"Error: The file '{yaml_file_path}' was not found.\")\n",
    "    except yaml.YAMLError as e:\n",
    "        print(f\"Error loading YAML file: {e}\")\n",
    "    except Exception as e:\n",
    "        print(f\"An unexpected error occurred: {e}\")"
   ]
  },
  {
   "cell_type": "code",
   "execution_count": 112,
   "id": "80063523-e548-4648-9f38-f4de42b8ec87",
   "metadata": {},
   "outputs": [
    {
     "data": {
      "text/plain": [
       "{'algorithms': {'sha': [{'description': \"Famille d'algorithmes de hachage, permet de créer une empreinte numérique unique.\"},\n",
       "   {'show': True}],\n",
       "  'chacha20': [{'description': 'Algorithme de chiffrement par flux.'},\n",
       "   {'show': True}],\n",
       "  'aes': [{'description': 'Algorithme cryptographique symétrique.'},\n",
       "   {'show': True}],\n",
       "  'rsa': [{'description': \"Algorithme cryptographique asymétrique reposant sur la factorisation d'entiers.\"},\n",
       "   {'show': True}],\n",
       "  'ecc': [{'description': 'Algorithme cryptographique asymétrique sur courbes elliptiques.'},\n",
       "   {'show': True}],\n",
       "  'kyber': [{'description': 'Algorithme cryptographique post-quantique standard pour la cryptographie hybride.'},\n",
       "   {'show': True}],\n",
       "  'ntru': [{'description': 'Algorithme cryptographique post-quantique servant à chiffrer.'},\n",
       "   {'show': True}]},\n",
       " 'sha': [{'option': 'SHA-2 256',\n",
       "   'description': 'Produit une empreinte de 256 bits.',\n",
       "   'show': True},\n",
       "  {'option': 'SHA-2 384',\n",
       "   'description': 'Produit une empreinte de 384 bits.',\n",
       "   'show': True},\n",
       "  {'option': 'SHA-2 512',\n",
       "   'description': 'Produit une empreinte de 512 bits.',\n",
       "   'show': True},\n",
       "  {'option': 'SHA-3 256',\n",
       "   'description': 'Produit une empreinte de 256 bits.',\n",
       "   'show': True},\n",
       "  {'option': 'SHA-3 384',\n",
       "   'description': 'Produit une empreinte de 384 bits.',\n",
       "   'show': True},\n",
       "  {'option': 'SHA-3 512',\n",
       "   'description': 'Produit une empreinte de 512 bits.',\n",
       "   'show': True}],\n",
       " 'aes': [{'option': '128 bits',\n",
       "   'description': 'Offre un niveau de sécurité de 128 bits.',\n",
       "   'show': True},\n",
       "  {'option': '192 bits',\n",
       "   'description': 'Offre un niveau de sécurité de 192 bits.',\n",
       "   'show': True},\n",
       "  {'option': '256 bits',\n",
       "   'description': 'Offre un niveau de sécurité de 256 bits.',\n",
       "   'show': True}],\n",
       " 'rsa': [{'option': '1024 bits',\n",
       "   'description': 'Equivaut à un niveau de sécurité de 80 bits.',\n",
       "   'show': True},\n",
       "  {'option': '2048 bits',\n",
       "   'description': 'Equivaut à un niveau de sécurité de 112 bits.',\n",
       "   'show': False},\n",
       "  {'option': '3072 bits',\n",
       "   'description': 'Equivaut à un niveau de sécurité de 128 bits.',\n",
       "   'show': True},\n",
       "  {'option': '7680 bits',\n",
       "   'description': 'Equivaut à un niveau de sécurité de 192 bits.',\n",
       "   'show': True},\n",
       "  {'option': '15360 bits',\n",
       "   'description': 'Equivaut à un niveau de sécurité de 256 bits.',\n",
       "   'show': True}],\n",
       " 'ecc': [{'option': 'SECP 256 R1',\n",
       "   'description': 'Equivaut à un niveau de sécurité de 128 bits.',\n",
       "   'show': True},\n",
       "  {'option': 'SECP 384 R1',\n",
       "   'description': 'Equivaut à un niveau de sécurité de 192 bits.',\n",
       "   'show': True},\n",
       "  {'option': 'SECP 512 R1',\n",
       "   'description': 'Equivaut à un niveau de sécurité de 256 bits.',\n",
       "   'show': True}],\n",
       " 'chacha20': [{'option': '128 bits',\n",
       "   'description': 'Offre un niveau de sécurité de 128 bits.',\n",
       "   'show': True},\n",
       "  {'option': '192 bits',\n",
       "   'description': 'Offre un niveau de sécurité de 192 bits.',\n",
       "   'show': True},\n",
       "  {'option': '256 bits',\n",
       "   'description': 'Offre un niveau de sécurité de 256 bits.',\n",
       "   'show': True}],\n",
       " 'kyber': [{'option': 'ML-KEM-512',\n",
       "   'description': 'Combine AES 128 bits + Kyber pour offrir un niveau de sécurité de 128 bits.',\n",
       "   'show': True},\n",
       "  {'option': 'ML-KEM-768',\n",
       "   'description': 'Combine AES 192 bits + Kyber pour offrir un niveau de sécurité de 192 bits.',\n",
       "   'show': True},\n",
       "  {'option': 'ML-KEM-1024',\n",
       "   'description': 'Combine AES 256 bits + Kyber pour offrir un niveau de sécurité de 256 bits.',\n",
       "   'show': True}],\n",
       " 'ntru': [{'option': 'NTRU-2048-509',\n",
       "   'description': 'Offre un niveau de sécurité de 128 bits.',\n",
       "   'show': True},\n",
       "  {'option': 'NTRU-2048-677',\n",
       "   'description': 'Offre un niveau de sécurité de 192 bits.',\n",
       "   'show': True},\n",
       "  {'option': 'NTRU-4096-821',\n",
       "   'description': 'Offre un niveau de sécurité de 256 bits.',\n",
       "   'show': True}]}"
      ]
     },
     "execution_count": 112,
     "metadata": {},
     "output_type": "execute_result"
    }
   ],
   "source": [
    "load_config('./config.yaml')"
   ]
  },
  {
   "cell_type": "code",
   "execution_count": 7,
   "id": "cdb055b4-cd11-4748-8b9b-ba9f2236276c",
   "metadata": {},
   "outputs": [],
   "source": [
    "import os\n",
    "from kyber_py.kyber import Kyber512, Kyber768, Kyber1024\n",
    "from cryptography.hazmat.primitives.ciphers.aead import AESGCM\n",
    "from typing import Tuple"
   ]
  },
  {
   "cell_type": "code",
   "execution_count": 17,
   "id": "57e22130-76b0-4320-a5f4-663101753281",
   "metadata": {},
   "outputs": [],
   "source": [
    "def hybrid_encrypt(\n",
    "    message: str,\n",
    "    key_param: str\n",
    ") -> Tuple[\n",
    "    bytes,  # nonce || tag || ciphertext\n",
    "    bytes,  # raw AES key\n",
    "    bytes,  # Kyber ciphertext\n",
    "    bytes,  # Kyber public key\n",
    "    bytes   # Kyber private key\n",
    "]:\n",
    "    \"\"\"\n",
    "    Hybrid encrypt a UTF-8 `message` with:\n",
    "      - AES-GCM (128/192/256 bits)\n",
    "      - Kyber KEM (Kyber512/768/1024)\n",
    "\n",
    "    Supported mappings:\n",
    "      128 → Kyber512\n",
    "      192 → Kyber768\n",
    "      256 → Kyber1024\n",
    "    \"\"\"\n",
    "    # 1. Encode the input string as UTF-8 bytes\n",
    "    message_bytes = message.encode('utf-8')\n",
    "\n",
    "    if key_param == 'ML-KEM-512':\n",
    "        Kem = Kyber512\n",
    "        aes_key_size = 128\n",
    "    elif key_param == 'ML-KEM-768':\n",
    "        Kem = Kyber768\n",
    "        aes_key_size = 192\n",
    "    elif key_param == 'ML-KEM-1024':\n",
    "        Kem = Kyber1024\n",
    "        aes_key_size = 256\n",
    "    \n",
    "    # 3. Generate Kyber keypair and encapsulate\n",
    "    pk, sk = Kem.keygen()\n",
    "    shared_secret, kem_ciphertext = Kem.encaps(pk)\n",
    "\n",
    "    # 4. Truncate the shared secret to derive the AES key\n",
    "    aes_key = shared_secret[: aes_key_size // 8]\n",
    "\n",
    "    # 5. AES-GCM encryption\n",
    "    aesgcm = AESGCM(aes_key)\n",
    "    nonce = os.urandom(12)  # 96-bit nonce\n",
    "    ciphertext = aesgcm.encrypt(nonce, message_bytes, None)\n",
    "\n",
    "    # 6. Return combined ciphertext and keys\n",
    "    return ciphertext, {\n",
    "        \"clé aes\" : aes_key,\n",
    "        \"clé aes chiffrée\": kem_ciphertext,\n",
    "        \"kyber clé publique\": pk,\n",
    "        \"kyber clé secrète\": sk\n",
    "    }"
   ]
  },
  {
   "cell_type": "code",
   "execution_count": 18,
   "id": "81959c55-bfba-474f-838a-28ede73674f4",
   "metadata": {},
   "outputs": [
    {
     "data": {
      "text/plain": [
       "(b'\\x07\\x08\\x0f$b%\\x9c\\xf6\\xe6\\xdc\\x0f\\xbeS>*@\\xcd',\n",
       " {'clé aes': b'\\xcdJ\\xe1\\x9f\\x901\\x19\\xed\\x0c8\\xc7\\xf8}[\\x84$',\n",
       "  'clé aes chiffrée': b'U\\xad\\n\\x1f\\xd6\\xf2\\xd1\\xd0\\\\\\xf8u\\x9a\\xc7\\xf4my\\x19\\xa9w^\\xf0\\xea/z0\\xfe\\xf7\\xdc\\x93Q\\xe9\\xc6n/\\xfbC\\xf6\\x04\\xf5\\xc1_\\xbd,_\\xbf\\xefD\\x1c\\xe1\\xa2i\\xe7\\'\\xc7\\x10\\x941E\\xbb\\x17\\xa0\\x8a\\x95\\xbb\\xf7\\xec\\xea\\x91\\xb2\\x1d5\\xd1\\xd7\\xb9\\xaf~\\x07}\\xa7\\xd4:\\xc7\\x16\\x8a\\x1a\\xf3\\xc7\\x93F\\xa7\\\\t5\\xad\\x12\\x16\\x826.\\xea\\x87\\x1c[\\x9cS_/\\x14\\x80\\xb3\\xed\\xc3S=\\xc4\\x8ek\\xa4]h\\xc9^wen\\x00]\\x82\\xa4s\\xa6\\x8b\\x9c\\xf4\\x11\\x823\\xf6V\\x98B C\\'\\xea\\xc85\\x9b!cO\\xa3\\xbe\\x81\\xb8\\x18\\xdc@v\\xbc\\xd9\\xe1\\xd9\\x0f\\xdcW5\\xdbU9\\x86\\x8e\"\\x8b_5u\\x14W\\xc7\\x80\\x0c\\xd7\\xef\\xa5\\xc7o\\xcb\\x93\\xd3;\\x99E`\\xf9K\\xe8\\x01!\\x18D\\x15\\xba9v\\xfd\\x99\\x96\\x05}&\\xcdr\\xad\\xf3n\\x83~C\\xd9\\xb5\\xfc}6\\x8a\\x0c\\xea\\xc9H\\xd8\\x83;\\x81\\xdb\\xb9\\xcd(\\xa2S6R\\xcc\\x8f\\xf2\\xb7-?kW\\xe9s{\\xbb\\x17\\xc7Q\\x17\\xd2\\x84\\x08\\xbe\\xfd\\xd0\\xf7\\x9d\\'V\\xdbvo\\xe55\\x91\\r\\x90\\xbfbH\\xd1{B\\xde\\x8d\\xa1Up\\xff\\x06\\xcd\\xd7\\x14\\xe6\\xa7\\x91w\\x96*[{\\xca\\x92\\xc4\\xf5l3!\\x0b\\xe0\\xe5\\xca\\xb0uB\\xef/\\\\#!1\\t\\x9b\\xb3b\\x9c5\\xfc\\xcday\\x02G\\x11#\\xac\\x19bw\\xd2\\xf1\\xa2\\x1a\\xd7=\\x8d\\x0c\\x1a\\xad\\xe9\\x85\\xc0H\\xb1j\\xd6\\x9e[7s\\xdeB\\xeb\\x12\\xe1\\xe2\\xd2|6`\\x11Gt\\xb4\\xbd\\xbcWK\\xa1\\x96\\x8e^\\\\\\xd3\\x03\\xa6\\xfdQ\\x01\\xdd\\xa6\\xe7n`,\\t\\xb5{}s\\x84Z\\xfb\\x95\\x1e\\xf5\\x074\\x19:/\\x96\\xd8A\\x9b`\\x14\\x0f\\xf3\\xc0\\xa0\\\\Q^\\x9cR\\xcb>\\x88\\xac1 Z+\\x8a\\xe9Y\\xad\\xbbI+(\\x92d\\xbd\\r\\xe7(\\x06\\xf8\\xf9\\xda3\\xeb\\xa5\\x9d\\xd3o\\xc7d^\\x12\\x03@\\x13\\xded5#\\x1c\\xa5~N\\xcf\\x95\\x15ji\\xd6\\\\\\x97\\xeb\\xb0\\xab\\xbeEE\\xaaU\\x82\\xf6S\\x0f\\xbf\\xd0\\x06\\x9e\\'[\\x98\\xf3\\xe9\\xe3\\xf7i\\x12J\\x99\\x8d/^,Ag\\xf2u\\xbe\\xf9\\xfc\\x13\\xa9\\x0e\\xb2C\\x7f\\xe7G\\xee#\\xb4\\xa1\\xc0[\\xf4\\xb9pS\\x9c\\x1f\"\\x0f-\\xbb\\xa1\\xd1:l\\xdb\\x96O\\xc6)\\xe6G\\xc4\\xdd\\xc2t\\x8cbU\\xf8\\xea\\xf4\\x06\\xd2\\xc3\\n\\r\\xfak:*\\xc8\\xc7\\xd9\\xdf\\x93\\xf2c\\x13@:\\xcf\\x89o\\x9d\\xd4)\\xaeGW\\x92\\xa8\\xda\\xf6M;\\xcf\\xbc>B\\xa1uB\\x8a\\xe0\\xf9\\xc2\\x9d\\x8c}l\\xb7\\xaf\\xbb\\xe2t\\xae)\\x16\\xfbK\\xd5H\\xb4\\x93C\\xbd\\'\\xb2\\xcbR4-X\\x07\\xe4m\\x93\\xd8\"\\x05T\\x90\\x9a\\xf5x\\xae\\xe4\\xda\\xe1\\\\\\xed\\xd1\\xf5\\xdf)\\x94\\x94\\xbc\\xbcxI\\xa5\\x88\\x84Y\\xa7\\x1baO\\xe2\\xa2\\xac(5s\\x8e]i\\xa8\\x96\\\\-E\\xc3\\x95\\x8d2\\xed\\xa9\\xdd\\xb9\\x1bI0\\x97\\x83\\xcf|\\xfd\\x92|\\xfbh\\xce\\xf8\\x83a\\x08u\\xce}\\xe4c\\xa1|.\\x04v\\xadxQ\\xb3]9Fs\\xef\\xd3\\xc6\\xceW\\xb4\\x05c\\xe1\\t\\x8a\\x15\\x00\\x96R\\xfa6\\x1eZ\\xfd\\xd6\\x1f\\x86\\x18\\x19\\xfdh\\xb5d\\xb3\\xc2\\xfbw\\xb8:i\\xcfF2/\\xe8',\n",
       "  'kyber clé publique': b'\\xb7b\\x7f\\x83\\xcc\\x0e\\xbd!\\x95\\xb4z\\x83\\x906\\xbd\\xa1e\\x8a\\x8c4\\x9fTh\\xc4\\x88\\x1c\\xcc\\xab`\\xb6\\xf5\\xe1\\xc3~!\\xcb\\x98\\xe0\\xc8\\x90\\xb5\\x9e\\xf2\\xdb\\xcf3CTib\\x132u|\\xcaH\\x9d\\xbb\\xc6Xz\\xaa\\xc8\\x1d\\xca\\x8c\\xbc\\xb2e\\x86S}ka\\xa74\\xf9\\xa1P\\x12\\x11A\\xb3n&y\\x9b\\xe0`\\xc8\\x19\\xd7x\\xde\\x11r\\xa6\\xfc\\r\\xfeK\\x1e\\xcb\\xfbG\\x82\\xfc\\xc2\\x0f\\xd3#x\\xdb\\x17\\x14\"_z\\x1c\\x1c\\x9a\\x0bu\\xf9\\xc1\\xce\\x97\\xe9J\\x92\\x90eG\\x02\\x81P\\x8b{v\\x87\\r\\xd1\\xe6\\xa2\\x90\\xd7G\\x0eI\\x01q\\xd4B\\xd4\\xdbs\\xdd\\x97P\\xe3\\xd88\\ti\\x11\\x86\\x91x\\xf5\\x84\\x90,,\\x81\\xc3W\\x07\\xc8\\x9c#\\x998\\xc6\\x89\\xf9\\xc1\\xb49\\xb9\\xdc\\x80\\xba\\xc5{9=\\xd5\\x12/\\xc8`U\\xa3\\xa0\\xaf\\xb9.\\x0b\\xc5Qi\\xbc=\\xc3\\xbb\\xc6\\x13\\x90~)\\x9a^%\\xb5\\xc4T\\x97\\xb0\\xbdV\\xbc\\xdc\\xe2B\\x0f\\xe9BN0\\x00\\x0c@\\x14\\xe6\\xcb\\x9f\\xb8\\xf9;+\\xfa\\xa6\\x98f.\\xef2l\\xb7\\xfc\\xbd\\x89\\xe8\\xa2;\\x04.E\\x10\\x11\\x8b\\xb9I\\xf4\\xf3U\\xf8\\x84)*f%\\xaf\\xf1\\x02C\\x08K\\xf4luS\\'\\x83\\xbb\\xd62\\xff\\xf7b\\x00$O\\xda\\xea\\t\\xa1Y\\x8b\\x85\\xf2\\r\\x08\\xb9\\xcd\\x85\\xa6]\\x88sHf\\x13q\\x99\\xb5\\xce#`t{\\xc6\\x1e?\\xf4\\xa1_\\xe4MjU\\x12\\xcd\\xb9Y\\xfa\"\\xc1\\xf4c\\xc8U3\\x02F\\xe1\\xa4\\xccX-\\xeby!\\xcb\\x89\\x82\\xb1\\x94j\\xa6C\\x08\\x08\\xa8\\xb7\\xc8\\xc2\\xbd\\xc2h\\x8b\\xe0,\\x91\\x97@\\xc1\\x8a\\xa4z\\xff\\x94]\\x11\\x88\\xbfwR\\x8e\\x8be\\x17\\x9c\\xd2)8V,\\xf2[}L|7w\\xdb~^\\xc6\\x0f\\x9a\\xa6\\n\\x1a\\x012\\x11z\\xc6l\\xf5\\x1d\\xdeJn#J>Y\\xe5\\xcf\\x0cY@\\xfb\\x9c8\\x076\\x88\\xa8\\x88\\xc262\\xc3\\xf2`\\xcc\\x93\\xc4\\xcc\\xe26\\xca;*R\\xfa6\\x8d#W\\xa2u\\xb9\\x9d\\x1c\\x03t\\xd8\"\\xc1L\\x10\\x8e\\x9f\\xc8L=\\xc4\\x15\\xfc\\x94\\xb4fl\\x0e4\\xebU\\x03\\x01\\x9b3\\x80\\x19\\xc5FE\\xe2\\xdc\\x83\\xf2C\\x02\\x95 C\\xb7e\\xceE)i\\x96\\xd7z?\\x81o\\xb7\\xfcfLZ\\xc7FR*\\x87T\\xb3\\xe8\\x1a\\x7ff\\xa7%\\x8bi\\x00\\xf7\\xd4z\\x9erE{\\xb1.\\x9b\\x01p\\xf7\\xb2?\\x161\\x1e(\\xbbw.\\x13\\xc0[sb\\x0e\\xea\\\\\\xc1U7$P:}\\xb9>\\xc0\\x134\\xca\\xfc\\x1f\\x1c\\n\\x88\\xe2$\\x05\\x81\\xb0)=\\x97)\\x82\\x91\"L\\xb4\\x93\\xfa\\x04Z\\xb1\\x1bU\\x04\\xb5l\\x0c\\xac\\x18S\\xaa2f\\xa5<\\x8b\\xe9y~\\xc9(\\xe1*2\\xce\\xa29\\r{\\x14\\xad\\x99\\r]|\\xbc\\xc9\\x92g\\xe2\\xe9c\\'0q\\xed\\xfaJ\\xa4fP\\xe0\\x16\\x9f\\xebq\\x94\\\\\\x89g\\x80P\\x83?qh\\xd92\\xb7\\x10j\\x9amb\\x9a\"\\x94x\\xec\\x14u!F\\xa8i\\xac\\xa3I\\xe0\\x90\\x15z.+,F\\tXK1u\\xc7\\xe59\\x80\\x82i\\xbf5\\xebg3\\x99\\xb3\\x03\\xcbSw\\x150\\xe14k\\xaf\\x90\\xb7\\xabK\\xbf\\xc5\\x95\\x99\\x1c\\x89G\\xd2\\xc7*+v\\x83\\x878v\\xb6fA\\xf5$\\x8e\\x1a*\\xc4H\\x8a\\xee\\x15(\\xdb\\x10\\x1ba;*\\x1a\\xf7\\xb2p,K)\\x87\\x9d\\xf6\\xd9f=T0c^\\xc1',\n",
       "  'kyber clé secrète': b'\\xf2\\xe3L\\x13\\x8c?\\x08b\\x96\\x05\\xeb\\x9fC*\\xbc?\\xe2\\x06\\x14\\x93\\xb0\\xe7\\xf1\\x06z\\xb9\\x19t\\xf2\\xc7\\xc7\\xcb\\xc9\\xb9\\xc946\\xc8N\\xcd\\xa8}>4|\\xa1\\x91\\x8f=\\x87Bfsh\\xa3(e\\x14wIWa\\x08V\\xc7n\\xdecP\\n\\x87\\xc8\\x8eSVn|\\xbe\\t\\xe8\\x13}\\x90\\x8d \\xaa\\xaf\\nB\\x04=!F\\xb8xf\\x9f\\xd9\\x90\\x02I\\xa9W)\\x82\\x08Q\\xb2\\xd0;mo\\xf0\\x1d\\xd5\\x93AvxUu\\xe6\\xc6bV(\\x90\\xdc<\\xb9\\xc9\\x13&\\x8a\\xb2\\x8dkq\\xf8\\xdb/q\\x92D\\xaf\\xc1>\\xd2\\x17=\\xa2\\xf1;\\xe1\\xf8.3`<w\\x02\\x8d\\xce\\x89V\\xc7$C\\x9e\\xcb:\\xeec\\xbexe~\\x9eB a\\xf3\\xa1\\xb4j\\x9f\\xbfj\\xb2\\xf2\\xeajM\\x12\\xbb;\\xf1\\xc20\\x12D\\xd3[,\\xadzD\\xb3\\xb1\\x1e\\xa0\\x02\\x90\\xf8\\x98\\xa6v\\xcaW5i@\\xf4\"\\x91\\xf9fm\\x83\\x99\\n.T\\n/\\xe4=\\xdbB\\xba\\x06\\xf7K\\x92\\xc2\\x05\\x95h\\x84\\xfa\\xd4o\\x94\\xb6\\x99\\x1b\\x918\\x83B\\xaf\\xdbx\\xbc\\x1d\\xe5_[\\xbc\\x0b\\xd2\\xa6L\\xa9a\\x13<j7-%\\xb8\\x1d\\x12\\x1a\\xeb\\xd4\\xb7|\\xf9\\\\\\xe67\\xb3\\xa4\\xf1\\x95\\xb9[r\\xb2\\xc9\\x0f\\xa2\\xc9Oi\\xfb\\x03\\x7f\\xa7Bu\\xf9\\x9c\\xddq\\xb7m\\xf0\\xc6\\xff\\x08\\xb0*j\\xa5z\\xc7g\\x87q\\\\\\xbb\\xfao\\xcc\\xb6\\x9d\\x8b{\\x12\\xac\\x17G\\x95\\x9bC\\xdc\\xb9\\xcd\\x18\\xf7\\xc7\\x0524M`\\x83\\xbb\\xd6\\xae\\xc2\\n\\xa2\\xba$8J\\xa9\\x83\\xd0\\xac\\xca\\x0e\\x14N4A?b\\xd8\\xa9\\x8a\\xe2!\\x15,\\x81C,\\xaf|\\xcao/\\x90\\xc1\\xa0\\xfbH\\xbd%~,F\\xbe\\xd6$\\x1f0l8\\xfe\\xe5cT\\xa7\\x01G\\x84P\\xa7\\xacu\\xbb7\\xb9\\x8a\\xd1\\xb30\\x16\\xc9\\xf6\\xd2`\\xcd(&@e3U\\xe9\\xbeEs\\x9at;\\x0c(\\x12\\x84\\x8d2\\x1e#FT\\x07\\xb8}\\xd7\\x80\\xb7\\xbf\\xca\\xcc\\xc4\\n\\r\\x10a-Mk\\x15(\\xf1]\\xdd\\x14a>\\xc6bU\\x05\\xafP\\x98\\x92z3\\x01\\xfe\\xa6$\\xd3\\x03E\\x88iM\\xab\\xf5\\x04\\xefj\\x8e\\x14\\xa9L\\x86\\xec\\x8c\\x85\\xb7\\xab\\xe1u3C\\xb7-\\x9d\\x02\\xb2\\t\\xdb\\x92\\x87Cz\\xe6\\x18\\x9a~\\x88{:\\x15p\\x17\\xa9}\\xb6\\x9b\\t\\xddu>&#r\\x06\\xf66\\xd4PB\\xcb\\x14\\x06=\\\\\\xb2\\xc1\\xe7X\\xd3\\xf0c\\xa0\\xd4\\x8a\\x89\\xe5W\\x1f\\xd1\\x9c\\x97\\xf7)\\x93\\xe6F\\xfcH\\xafh\\xfc\\xa3\\xd2\\x1aJ\\x93K\\x03\\x08\\xc8\\xc0\\xc3S\\\\\\x85\\x88\\x98\\x8c6j\\xdf\\xe30\\xe2{ 3\\x93Z \\xc1\\xbc \\x87\\xb1\\xabB\\x1e\\x98\\x98:\\'8\\xba+h\\x0cDs[^S\\xb3\\x91\\xe6\\x1c\\x8e\\x84\\x1c\\xc2\\x94\\x7f`T\\x83[\\xe0\\x9f9\\xf1\\xb8\\xcc\\x18\\x91\\xec\\xa1\\xb4\\x84IjG\\x10\\xae\\x02\\x94\\xb1mKd\"\\xe1\\x94\\n\\x18d\\xdc\\xc4b]\\x14\\xbaG\\xd2\\xb3\\xe8Ue\\x00c3\\x9b\\'\\xb8\\xe2UP\\xf8\\xf5+\\xebd\\xbe\\xaa\\xe37K\\x16P\\xd2\\x8a\\x93\\xce\\xd7]\\xefw\\x9b\\x0b\\x0bA\\xf3Y\\x1bG\\xa1\\xb7\\xb1\\x1c\\xc0\\x9a\\xd7\\x0e\\x005g\\xa6\\x00\\x068\\x93N\\x1e\\x01\\xb2&\\x16\\xc3\\x9cJ9\\x0e\\xf2\\xb1\\xb7b\\x7f\\x83\\xcc\\x0e\\xbd!\\x95\\xb4z\\x83\\x906\\xbd\\xa1e\\x8a\\x8c4\\x9fTh\\xc4\\x88\\x1c\\xcc\\xab`\\xb6\\xf5\\xe1\\xc3~!\\xcb\\x98\\xe0\\xc8\\x90\\xb5\\x9e\\xf2\\xdb\\xcf3CTib\\x132u|\\xcaH\\x9d\\xbb\\xc6Xz\\xaa\\xc8\\x1d\\xca\\x8c\\xbc\\xb2e\\x86S}ka\\xa74\\xf9\\xa1P\\x12\\x11A\\xb3n&y\\x9b\\xe0`\\xc8\\x19\\xd7x\\xde\\x11r\\xa6\\xfc\\r\\xfeK\\x1e\\xcb\\xfbG\\x82\\xfc\\xc2\\x0f\\xd3#x\\xdb\\x17\\x14\"_z\\x1c\\x1c\\x9a\\x0bu\\xf9\\xc1\\xce\\x97\\xe9J\\x92\\x90eG\\x02\\x81P\\x8b{v\\x87\\r\\xd1\\xe6\\xa2\\x90\\xd7G\\x0eI\\x01q\\xd4B\\xd4\\xdbs\\xdd\\x97P\\xe3\\xd88\\ti\\x11\\x86\\x91x\\xf5\\x84\\x90,,\\x81\\xc3W\\x07\\xc8\\x9c#\\x998\\xc6\\x89\\xf9\\xc1\\xb49\\xb9\\xdc\\x80\\xba\\xc5{9=\\xd5\\x12/\\xc8`U\\xa3\\xa0\\xaf\\xb9.\\x0b\\xc5Qi\\xbc=\\xc3\\xbb\\xc6\\x13\\x90~)\\x9a^%\\xb5\\xc4T\\x97\\xb0\\xbdV\\xbc\\xdc\\xe2B\\x0f\\xe9BN0\\x00\\x0c@\\x14\\xe6\\xcb\\x9f\\xb8\\xf9;+\\xfa\\xa6\\x98f.\\xef2l\\xb7\\xfc\\xbd\\x89\\xe8\\xa2;\\x04.E\\x10\\x11\\x8b\\xb9I\\xf4\\xf3U\\xf8\\x84)*f%\\xaf\\xf1\\x02C\\x08K\\xf4luS\\'\\x83\\xbb\\xd62\\xff\\xf7b\\x00$O\\xda\\xea\\t\\xa1Y\\x8b\\x85\\xf2\\r\\x08\\xb9\\xcd\\x85\\xa6]\\x88sHf\\x13q\\x99\\xb5\\xce#`t{\\xc6\\x1e?\\xf4\\xa1_\\xe4MjU\\x12\\xcd\\xb9Y\\xfa\"\\xc1\\xf4c\\xc8U3\\x02F\\xe1\\xa4\\xccX-\\xeby!\\xcb\\x89\\x82\\xb1\\x94j\\xa6C\\x08\\x08\\xa8\\xb7\\xc8\\xc2\\xbd\\xc2h\\x8b\\xe0,\\x91\\x97@\\xc1\\x8a\\xa4z\\xff\\x94]\\x11\\x88\\xbfwR\\x8e\\x8be\\x17\\x9c\\xd2)8V,\\xf2[}L|7w\\xdb~^\\xc6\\x0f\\x9a\\xa6\\n\\x1a\\x012\\x11z\\xc6l\\xf5\\x1d\\xdeJn#J>Y\\xe5\\xcf\\x0cY@\\xfb\\x9c8\\x076\\x88\\xa8\\x88\\xc262\\xc3\\xf2`\\xcc\\x93\\xc4\\xcc\\xe26\\xca;*R\\xfa6\\x8d#W\\xa2u\\xb9\\x9d\\x1c\\x03t\\xd8\"\\xc1L\\x10\\x8e\\x9f\\xc8L=\\xc4\\x15\\xfc\\x94\\xb4fl\\x0e4\\xebU\\x03\\x01\\x9b3\\x80\\x19\\xc5FE\\xe2\\xdc\\x83\\xf2C\\x02\\x95 C\\xb7e\\xceE)i\\x96\\xd7z?\\x81o\\xb7\\xfcfLZ\\xc7FR*\\x87T\\xb3\\xe8\\x1a\\x7ff\\xa7%\\x8bi\\x00\\xf7\\xd4z\\x9erE{\\xb1.\\x9b\\x01p\\xf7\\xb2?\\x161\\x1e(\\xbbw.\\x13\\xc0[sb\\x0e\\xea\\\\\\xc1U7$P:}\\xb9>\\xc0\\x134\\xca\\xfc\\x1f\\x1c\\n\\x88\\xe2$\\x05\\x81\\xb0)=\\x97)\\x82\\x91\"L\\xb4\\x93\\xfa\\x04Z\\xb1\\x1bU\\x04\\xb5l\\x0c\\xac\\x18S\\xaa2f\\xa5<\\x8b\\xe9y~\\xc9(\\xe1*2\\xce\\xa29\\r{\\x14\\xad\\x99\\r]|\\xbc\\xc9\\x92g\\xe2\\xe9c\\'0q\\xed\\xfaJ\\xa4fP\\xe0\\x16\\x9f\\xebq\\x94\\\\\\x89g\\x80P\\x83?qh\\xd92\\xb7\\x10j\\x9amb\\x9a\"\\x94x\\xec\\x14u!F\\xa8i\\xac\\xa3I\\xe0\\x90\\x15z.+,F\\tXK1u\\xc7\\xe59\\x80\\x82i\\xbf5\\xebg3\\x99\\xb3\\x03\\xcbSw\\x150\\xe14k\\xaf\\x90\\xb7\\xabK\\xbf\\xc5\\x95\\x99\\x1c\\x89G\\xd2\\xc7*+v\\x83\\x878v\\xb6fA\\xf5$\\x8e\\x1a*\\xc4H\\x8a\\xee\\x15(\\xdb\\x10\\x1ba;*\\x1a\\xf7\\xb2p,K)\\x87\\x9d\\xf6\\xd9f=T0c^\\xc1\\xe3>m\\x84\\x1b\\xb6\\x9a{\\xf3\\x94\\rC6\\x1f\\nL\\x84r\\xd1\\x95\\x99\\xe2[\\x00\\n\\xf9\\x18\\'`\\x07\\xd1\\xfdJ\\x0f\\x07u\\x92s\\xc9\\xd0\\xb1G,\\x07\\xb8\\x9c\\xcf\\xb5\\x06\\xef\\x83M\\\\;\\xc9\\x84!\\xa7\\x08\\xd3?u\\x17\\x96'})"
      ]
     },
     "execution_count": 18,
     "metadata": {},
     "output_type": "execute_result"
    }
   ],
   "source": [
    "hybrid_encrypt('c', \"ML-KEM-512\")"
   ]
  },
  {
   "cell_type": "code",
   "execution_count": null,
   "id": "f4d02f8e-a523-4162-8825-3c3acf8f38e2",
   "metadata": {},
   "outputs": [],
   "source": []
  }
 ],
 "metadata": {
  "kernelspec": {
   "display_name": "Python 3 (ipykernel)",
   "language": "python",
   "name": "python3"
  },
  "language_info": {
   "codemirror_mode": {
    "name": "ipython",
    "version": 3
   },
   "file_extension": ".py",
   "mimetype": "text/x-python",
   "name": "python",
   "nbconvert_exporter": "python",
   "pygments_lexer": "ipython3",
   "version": "3.12.2"
  }
 },
 "nbformat": 4,
 "nbformat_minor": 5
}
